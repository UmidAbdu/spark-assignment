{
 "cells": [
  {
   "cell_type": "code",
   "execution_count": 1,
   "metadata": {
    "collapsed": true,
    "ExecuteTime": {
     "start_time": "2023-05-01T21:16:43.723454Z",
     "end_time": "2023-05-01T21:16:44.027345Z"
    }
   },
   "outputs": [],
   "source": [
    "# Import the necessary libraries\n",
    "import requests\n",
    "from pyspark.sql import SparkSession\n",
    "from pyspark.sql.functions import udf, col, when, isnull, broadcast\n",
    "from pyspark.sql.types import FloatType, StringType\n",
    "import os\n",
    "import pygeohash as pgh"
   ]
  },
  {
   "cell_type": "code",
   "execution_count": 2,
   "outputs": [],
   "source": [
    "# Create a SparkSession\n",
    "spark = SparkSession.builder.appName(\"ETLJob\")\\\n",
    "    .config(\"spark.executor.memory\", \"8g\")\\\n",
    "    .config(\"spark.driver.memory\", \"4g\")\\\n",
    "    .getOrCreate()"
   ],
   "metadata": {
    "collapsed": false,
    "ExecuteTime": {
     "start_time": "2023-05-01T21:16:46.428108Z",
     "end_time": "2023-05-01T21:16:53.136813Z"
    }
   }
  },
  {
   "cell_type": "code",
   "execution_count": 3,
   "outputs": [],
   "source": [
    "# Define input path\n",
    "input_path = \"restaurant_csv/\""
   ],
   "metadata": {
    "collapsed": false,
    "ExecuteTime": {
     "start_time": "2023-05-01T21:16:53.672978Z",
     "end_time": "2023-05-01T21:16:53.713344Z"
    }
   }
  },
  {
   "cell_type": "code",
   "execution_count": 4,
   "outputs": [],
   "source": [
    "# Create a list of CSV files from given restaurant_csv directory\n",
    "csv_files = [os.path.join(input_path, f) for f in os.listdir(input_path) if f.endswith('.csv')]"
   ],
   "metadata": {
    "collapsed": false,
    "ExecuteTime": {
     "start_time": "2023-05-01T21:16:54.265921Z",
     "end_time": "2023-05-01T21:16:54.292687Z"
    }
   }
  },
  {
   "cell_type": "code",
   "execution_count": 5,
   "outputs": [],
   "source": [
    "# Read the CSV files\n",
    "restaurant_df = spark.read.format(\"csv\").option(\"header\", \"true\").load(csv_files)"
   ],
   "metadata": {
    "collapsed": false,
    "ExecuteTime": {
     "start_time": "2023-05-01T21:16:54.834359Z",
     "end_time": "2023-05-01T21:17:00.966362Z"
    }
   }
  },
  {
   "cell_type": "code",
   "execution_count": 6,
   "outputs": [
    {
     "data": {
      "text/plain": "1997"
     },
     "execution_count": 6,
     "metadata": {},
     "output_type": "execute_result"
    }
   ],
   "source": [
    "restaurant_df.count()"
   ],
   "metadata": {
    "collapsed": false,
    "ExecuteTime": {
     "start_time": "2023-05-01T21:17:00.970428Z",
     "end_time": "2023-05-01T21:17:01.728290Z"
    }
   }
  },
  {
   "cell_type": "code",
   "execution_count": 7,
   "outputs": [
    {
     "name": "stdout",
     "output_type": "stream",
     "text": [
      "+-----------+------------+--------------+-----------------------+-------+------+----+----+\n",
      "|         id|franchise_id|franchise_name|restaurant_franchise_id|country|  city| lat| lng|\n",
      "+-----------+------------+--------------+-----------------------+-------+------+----+----+\n",
      "|85899345920|           1|       Savoria|                  18952|     US|Dillon|null|null|\n",
      "+-----------+------------+--------------+-----------------------+-------+------+----+----+\n",
      "\n"
     ]
    }
   ],
   "source": [
    "restaurant_df.where(col(\"lat\").isNull()).show()"
   ],
   "metadata": {
    "collapsed": false,
    "ExecuteTime": {
     "start_time": "2023-05-01T21:17:01.730071Z",
     "end_time": "2023-05-01T21:17:02.169009Z"
    }
   }
  },
  {
   "cell_type": "code",
   "execution_count": 8,
   "outputs": [],
   "source": [
    "# Define the OpenCage Geocoding API endpoint and API key\n",
    "API_ENDPOINT = \"https://api.opencagedata.com/geocode/v1/json\"\n",
    "API_KEY = \"YOUR_API_KEY\"\n",
    "\n",
    "# Filter the dataframe to include only rows with null values in the latitude or longitude columns\n",
    "null_lat_lon_df = restaurant_df.filter(isnull(\"lat\") | isnull(\"lng\"))\n",
    "\n",
    "# Iterate over each row in the filtered dataframe and map the latitude and longitude using the OpenCage Geocoding API\n",
    "for row in null_lat_lon_df.collect():\n",
    "    # Extract the address from the row\n",
    "    address = row[\"city\"]\n",
    "\n",
    "    # Build the query parameters for the API call\n",
    "    params = {\n",
    "        \"q\": address,\n",
    "        \"key\": API_KEY\n",
    "    }\n",
    "\n",
    "    # Make the API call\n",
    "    response = requests.get(API_ENDPOINT, params=params)\n",
    "\n",
    "    # Extract the latitude and longitude from the API response\n",
    "    if response.ok:\n",
    "        data = response.json()\n",
    "        lat = data[\"results\"][0][\"geometry\"][\"lat\"]\n",
    "        lon = data[\"results\"][0][\"geometry\"][\"lng\"]\n",
    "\n",
    "        # Update the latitude and longitude columns of the original dataframe\n",
    "        restaurant_df = restaurant_df.withColumn(\"lat\", when(col(\"city\") == address, lat).otherwise(col(\"lat\")))\n",
    "        restaurant_df = restaurant_df.withColumn(\"lng\", when(col(\"city\") == address, lon).otherwise(col(\"lng\")))"
   ],
   "metadata": {
    "collapsed": false,
    "ExecuteTime": {
     "start_time": "2023-05-01T21:17:02.176068Z",
     "end_time": "2023-05-01T21:17:03.531270Z"
    }
   }
  },
  {
   "cell_type": "code",
   "execution_count": 9,
   "outputs": [
    {
     "name": "stdout",
     "output_type": "stream",
     "text": [
      "+-----------+------------+--------------+-----------------------+-------+------+----------+-----------+\n",
      "|         id|franchise_id|franchise_name|restaurant_franchise_id|country|  city|       lat|        lng|\n",
      "+-----------+------------+--------------+-----------------------+-------+------+----------+-----------+\n",
      "|85899345920|           1|       Savoria|                  18952|     US|Dillon|34.4014089|-79.3864339|\n",
      "+-----------+------------+--------------+-----------------------+-------+------+----------+-----------+\n",
      "\n"
     ]
    }
   ],
   "source": [
    "# Filter records with id 85899345920\n",
    "restaurant_df.where(col(\"id\") == 85899345920).show()"
   ],
   "metadata": {
    "collapsed": false,
    "ExecuteTime": {
     "start_time": "2023-05-01T21:17:04.431508Z",
     "end_time": "2023-05-01T21:17:04.780455Z"
    }
   }
  },
  {
   "cell_type": "code",
   "execution_count": 10,
   "outputs": [],
   "source": [
    "# Define a UDF to generate a geohash from latitude and longitude\n",
    "@udf(returnType=StringType())\n",
    "def geohash_udf(lat, lng):\n",
    "    lat = float(lat)\n",
    "    lng = float(lng)\n",
    "    return pgh.encode(lat, lng)\n"
   ],
   "metadata": {
    "collapsed": false,
    "ExecuteTime": {
     "start_time": "2023-05-01T21:17:05.616536Z",
     "end_time": "2023-05-01T21:17:05.634737Z"
    }
   }
  },
  {
   "cell_type": "code",
   "execution_count": 11,
   "outputs": [],
   "source": [
    "restaurant_df = restaurant_df.withColumn(\"geohash\", geohash_udf(restaurant_df.lat, restaurant_df.lng))"
   ],
   "metadata": {
    "collapsed": false,
    "ExecuteTime": {
     "start_time": "2023-05-01T21:17:06.673402Z",
     "end_time": "2023-05-01T21:17:06.745125Z"
    }
   }
  },
  {
   "cell_type": "code",
   "execution_count": 15,
   "outputs": [
    {
     "name": "stdout",
     "output_type": "stream",
     "text": [
      "+------------+------------+--------------------+-----------------------+-------+--------------+------+--------+------------+\n",
      "|          id|franchise_id|      franchise_name|restaurant_franchise_id|country|          city|   lat|     lng|     geohash|\n",
      "+------------+------------+--------------------+-----------------------+-------+--------------+------+--------+------------+\n",
      "|197568495625|          10|    The Golden Spoon|                  24784|     US|       Decatur|34.578| -87.021|dn4hey9prwrk|\n",
      "| 17179869242|          59|         Azalea Cafe|                  10902|     FR|         Paris|48.861|   2.368|u09tvyu7fqsf|\n",
      "|214748364826|          27|     The Corner Cafe|                  92040|     US|    Rapid City|44.080|-103.250|9xydf2x8seef|\n",
      "|154618822706|          51|        The Pizzeria|                  41484|     AT|        Vienna|48.213|  16.413|u2edm2zt4deg|\n",
      "|163208757312|          65|       Chef's Corner|                  96638|     GB|        London|51.495|  -0.191|gcpugwkuj7u0|\n",
      "| 68719476763|          28|    The Spicy Pickle|                  77517|     US|      Grayling|44.657| -84.744|dpgwp9e3csjt|\n",
      "|223338299419|          28|    The Spicy Pickle|                  36937|     US|        Oswego|43.452| -76.532|dr9x4qpn5pus|\n",
      "|240518168650|          75|     Greenhouse Cafe|                  93164|     NL|     Amsterdam|52.370|   4.897|u173zmtvk7ef|\n",
      "|128849018936|          57|The Yellow Submarine|                   5679|     FR|         Paris|48.872|   2.335|u09wj0uk13n5|\n",
      "|197568495635|          20|       The Brasserie|                  24784|     US|Jeffersonville|39.616| -83.612|dph937gegjwh|\n",
      "| 68719476768|          33|   The Blue Elephant|                  77517|     IT|         Milan|45.479|   9.146|u0nd8p5ymhpf|\n",
      "| 51539607582|          31|           Bistro 42|                   6934|     IT|         Milan|45.444|   9.153|u0nd82c42re7|\n",
      "| 94489280554|          43|      The Food House|                  95399|     FR|         Paris|48.867|   2.329|u09tuzzyvth3|\n",
      "|206158430215|           8|     The Green Olive|                  53370|     US|   Haltom City|32.789| -97.280|9vffd34cg8we|\n",
      "|154618822657|           2|        Bella Cucina|                  41484|     US|   Fort Pierce|27.412| -80.391|dhygfwjn3zjt|\n",
      "| 17179869217|          34|     The Tasty Treat|                  10902|     US|     Green Bay|44.476| -88.077|dpcm5b873pkd|\n",
      "|  8589934633|          42|     The Daily Scoop|                  12630|     FR|         Paris|48.854|   2.343|u09tvmd55vem|\n",
      "|240518168596|          21|      The Lazy Daisy|                  93164|     US|    Mendenhall|39.860| -75.646|dr44y8k326w1|\n",
      "|171798691906|          67|  Crimson and Clover|                  65939|     NL|     Amsterdam|52.361|   4.894|u173zk58ymyg|\n",
      "| 42949673022|          63|          Cafe Paris|                  89646|     GB|        London|51.508|  -0.107|gcpvj8dpfeph|\n",
      "+------------+------------+--------------------+-----------------------+-------+--------------+------+--------+------------+\n",
      "only showing top 20 rows\n",
      "\n"
     ]
    }
   ],
   "source": [
    "restaurant_df.show()"
   ],
   "metadata": {
    "collapsed": false,
    "ExecuteTime": {
     "start_time": "2023-05-01T21:17:42.947090Z",
     "end_time": "2023-05-01T21:17:43.828320Z"
    }
   }
  },
  {
   "cell_type": "code",
   "execution_count": 16,
   "outputs": [],
   "source": [
    "# Read the weather dataset from a given source\n",
    "path = 'weather_dataset'\n",
    "weather_df = spark.read.parquet(path)"
   ],
   "metadata": {
    "collapsed": false,
    "ExecuteTime": {
     "start_time": "2023-05-01T21:17:45.238838Z",
     "end_time": "2023-05-01T21:17:45.525782Z"
    }
   }
  },
  {
   "cell_type": "code",
   "execution_count": 17,
   "outputs": [
    {
     "name": "stdout",
     "output_type": "stream",
     "text": [
      "+--------+-------+----------+----------+----------+----+-----+---+\n",
      "|     lng|    lat|avg_tmpr_f|avg_tmpr_c| wthr_date|year|month|day|\n",
      "+--------+-------+----------+----------+----------+----+-----+---+\n",
      "| -111.09|18.6251|      80.7|      27.1|2017-08-29|2017|    8| 29|\n",
      "|-111.042|18.6305|      80.7|      27.1|2017-08-29|2017|    8| 29|\n",
      "|-110.995|18.6358|      80.7|      27.1|2017-08-29|2017|    8| 29|\n",
      "|-110.947|18.6412|      80.9|      27.2|2017-08-29|2017|    8| 29|\n",
      "|  -110.9|18.6465|      80.9|      27.2|2017-08-29|2017|    8| 29|\n",
      "|-110.852|18.6518|      80.9|      27.2|2017-08-29|2017|    8| 29|\n",
      "|-110.804|18.6571|      80.9|      27.2|2017-08-29|2017|    8| 29|\n",
      "|-105.068|19.1765|      82.4|      28.0|2017-08-29|2017|    8| 29|\n",
      "| -105.02|19.1799|      82.0|      27.8|2017-08-29|2017|    8| 29|\n",
      "|-104.972|19.1832|      82.0|      27.8|2017-08-29|2017|    8| 29|\n",
      "|-104.924|19.1866|      82.0|      27.8|2017-08-29|2017|    8| 29|\n",
      "|-104.876|19.1899|      82.0|      27.8|2017-08-29|2017|    8| 29|\n",
      "|-104.828|19.1932|      81.6|      27.6|2017-08-29|2017|    8| 29|\n",
      "| -104.78|19.1964|      81.6|      27.6|2017-08-29|2017|    8| 29|\n",
      "|-104.732|19.1997|      81.6|      27.6|2017-08-29|2017|    8| 29|\n",
      "|-104.684| 19.203|      77.8|      25.4|2017-08-29|2017|    8| 29|\n",
      "|-104.636|19.2062|      77.8|      25.4|2017-08-29|2017|    8| 29|\n",
      "|-104.588|19.2094|      75.2|      24.0|2017-08-29|2017|    8| 29|\n",
      "| -104.54|19.2126|      75.2|      24.0|2017-08-29|2017|    8| 29|\n",
      "|-104.492|19.2158|      75.2|      24.0|2017-08-29|2017|    8| 29|\n",
      "+--------+-------+----------+----------+----------+----+-----+---+\n",
      "only showing top 20 rows\n",
      "\n"
     ]
    }
   ],
   "source": [
    "weather_df.show()"
   ],
   "metadata": {
    "collapsed": false,
    "ExecuteTime": {
     "start_time": "2023-05-01T21:17:46.074342Z",
     "end_time": "2023-05-01T21:17:46.255179Z"
    }
   }
  },
  {
   "cell_type": "code",
   "execution_count": 19,
   "outputs": [],
   "source": [
    "# Define a UDF to generate a geohash from latitude and longitude\n",
    "weather_df = weather_df.withColumn(\"geohash\", geohash_udf(weather_df.lat, weather_df.lng))"
   ],
   "metadata": {
    "collapsed": false,
    "ExecuteTime": {
     "start_time": "2023-05-01T21:17:48.814352Z",
     "end_time": "2023-05-01T21:17:48.839793Z"
    }
   }
  },
  {
   "cell_type": "code",
   "execution_count": 20,
   "outputs": [
    {
     "name": "stdout",
     "output_type": "stream",
     "text": [
      "+--------+-------+----------+----------+----------+----+-----+---+------------+\n",
      "|     lng|    lat|avg_tmpr_f|avg_tmpr_c| wthr_date|year|month|day|     geohash|\n",
      "+--------+-------+----------+----------+----------+----+-----+---+------------+\n",
      "| -111.09|18.6251|      80.7|      27.1|2017-08-29|2017|    8| 29|9e31bndep6k1|\n",
      "|-111.042|18.6305|      80.7|      27.1|2017-08-29|2017|    8| 29|9e31cptdtbgt|\n",
      "|-110.995|18.6358|      80.7|      27.1|2017-08-29|2017|    8| 29|9e3440xcmhcm|\n",
      "|-110.947|18.6412|      80.9|      27.2|2017-08-29|2017|    8| 29|9e3453dbge89|\n",
      "|  -110.9|18.6465|      80.9|      27.2|2017-08-29|2017|    8| 29|9e34h6mpdxw3|\n",
      "|-110.852|18.6518|      80.9|      27.2|2017-08-29|2017|    8| 29|9e34je2n95tb|\n",
      "|-110.804|18.6571|      80.9|      27.2|2017-08-29|2017|    8| 29|9e34ns6vrxt2|\n",
      "|-105.068|19.1765|      82.4|      28.0|2017-08-29|2017|    8| 29|9emm14gz4nsy|\n",
      "| -105.02|19.1799|      82.0|      27.8|2017-08-29|2017|    8| 29|9emm45wg08s2|\n",
      "|-104.972|19.1832|      82.0|      27.8|2017-08-29|2017|    8| 29|9emm5k1wppet|\n",
      "|-104.924|19.1866|      82.0|      27.8|2017-08-29|2017|    8| 29|9emmhkudj97p|\n",
      "|-104.876|19.1899|      82.0|      27.8|2017-08-29|2017|    8| 29|9emmjmrtk0dk|\n",
      "|-104.828|19.1932|      81.6|      27.6|2017-08-29|2017|    8| 29|9emmnw486xcc|\n",
      "| -104.78|19.1964|      81.6|      27.6|2017-08-29|2017|    8| 29|9emmpwte1h34|\n",
      "|-104.732|19.1997|      81.6|      27.6|2017-08-29|2017|    8| 29|9emt0z0qre2x|\n",
      "|-104.684| 19.203|      77.8|      25.4|2017-08-29|2017|    8| 29|9emt1zg3w48h|\n",
      "|-104.636|19.2062|      77.8|      25.4|2017-08-29|2017|    8| 29|9emt6bqkhrpm|\n",
      "|-104.588|19.2094|      75.2|      24.0|2017-08-29|2017|    8| 29|9emtk0cqfgwy|\n",
      "| -104.54|19.2126|      75.2|      24.0|2017-08-29|2017|    8| 29|9emtm1s392np|\n",
      "|-104.492|19.2158|      75.2|      24.0|2017-08-29|2017|    8| 29|9emtq4phputx|\n",
      "+--------+-------+----------+----------+----------+----+-----+---+------------+\n",
      "only showing top 20 rows\n",
      "\n"
     ]
    }
   ],
   "source": [
    "weather_df.show()"
   ],
   "metadata": {
    "collapsed": false,
    "ExecuteTime": {
     "start_time": "2023-05-01T21:17:49.729415Z",
     "end_time": "2023-05-01T21:17:50.818566Z"
    }
   }
  },
  {
   "cell_type": "code",
   "execution_count": 21,
   "outputs": [],
   "source": [
    "# add new column to restaurant_df with four characters of geohash\n",
    "restaurant_df = restaurant_df.withColumn(\"geohash_4\", restaurant_df.geohash.substr(0, 4))\n",
    "\n",
    "# add new column to weather_df with four characters of geohash\n",
    "weather_df = weather_df.withColumn(\"geohash_4\", weather_df.geohash.substr(0, 4))"
   ],
   "metadata": {
    "collapsed": false,
    "ExecuteTime": {
     "start_time": "2023-05-01T21:17:53.502540Z",
     "end_time": "2023-05-01T21:17:53.613267Z"
    }
   }
  },
  {
   "cell_type": "code",
   "execution_count": 22,
   "outputs": [],
   "source": [
    "# drop lat lng and geohash columns from restaurant_df\n",
    "restaurant_df = restaurant_df.drop(\"lat\", \"lng\", \"geohash\")\n",
    "\n",
    "# drop lat lng and geohash columns from weather_df\n",
    "weather_df = weather_df.drop(\"lat\", \"lng\", \"geohash\")"
   ],
   "metadata": {
    "collapsed": false,
    "ExecuteTime": {
     "start_time": "2023-05-01T21:18:21.050100Z",
     "end_time": "2023-05-01T21:18:21.118330Z"
    }
   }
  },
  {
   "cell_type": "code",
   "execution_count": 23,
   "outputs": [],
   "source": [
    "# drop duplicates from restaurant_df based on geohash_4 and wthr_date, because we don't want to keep duplicate weather records from same location and date\n",
    "weather_df = weather_df.dropDuplicates([\"geohash_4\", \"wthr_date\"])"
   ],
   "metadata": {
    "collapsed": false,
    "ExecuteTime": {
     "start_time": "2023-05-01T21:18:31.771130Z",
     "end_time": "2023-05-01T21:18:31.799575Z"
    }
   }
  },
  {
   "cell_type": "code",
   "execution_count": 24,
   "outputs": [],
   "source": [
    "# join restaurant_df and weather_df on geohash_4\n",
    "df_joined = restaurant_df.join(weather_df, \"geohash_4\", \"left\")"
   ],
   "metadata": {
    "collapsed": false,
    "ExecuteTime": {
     "start_time": "2023-05-01T21:19:29.568306Z",
     "end_time": "2023-05-01T21:19:29.624091Z"
    }
   }
  },
  {
   "cell_type": "code",
   "execution_count": 31,
   "outputs": [],
   "source": [
    "# new partitioned parquet file\n",
    "df_joined.write.mode(\"overwrite\").partitionBy('year', 'month', 'day').parquet(\"enriched_data\")"
   ],
   "metadata": {
    "collapsed": false,
    "ExecuteTime": {
     "start_time": "2023-05-01T21:56:56.611861Z",
     "end_time": "2023-05-01T22:11:22.552786Z"
    }
   }
  },
  {
   "cell_type": "code",
   "execution_count": 32,
   "outputs": [],
   "source": [
    "# read parquet file\n",
    "parquet_df = spark.read.parquet(\"enriched_data\")"
   ],
   "metadata": {
    "collapsed": false,
    "ExecuteTime": {
     "start_time": "2023-05-01T22:13:47.535641Z",
     "end_time": "2023-05-01T22:13:48.115678Z"
    }
   }
  },
  {
   "cell_type": "code",
   "execution_count": 33,
   "outputs": [
    {
     "name": "stdout",
     "output_type": "stream",
     "text": [
      "+---------+------------+------------+------------------+-----------------------+-------+-----------------+----------+----------+----------+----+-----+---+\n",
      "|geohash_4|          id|franchise_id|    franchise_name|restaurant_franchise_id|country|             city|avg_tmpr_f|avg_tmpr_c| wthr_date|year|month|day|\n",
      "+---------+------------+------------+------------------+-----------------------+-------+-----------------+----------+----------+----------+----+-----+---+\n",
      "|     9fcp| 51539607552|           1|           Savoria|                   6934|     US|          Whigham|      82.6|      28.1|2016-10-05|2016|   10|  5|\n",
      "|     9pzv| 25769803813|          38|         Cafe Viva|                  72230|     US|          Newport|      50.5|      10.3|2016-10-05|2016|   10|  5|\n",
      "|     9q5f| 25769803781|           6|   The Daily Grind|                  72230|     US|      Studio City|      64.0|      17.8|2016-10-05|2016|   10|  5|\n",
      "|     9q9x| 42949672973|          14|The Gourmet Garden|                  89646|     US|         Stockton|      63.3|      17.4|2016-10-05|2016|   10|  5|\n",
      "|     9qfx| 34359738379|          12|  The Wooden Spoon|                  50333|     US|      Crystal Bay|      37.9|       3.3|2016-10-05|2016|   10|  5|\n",
      "|     9qfx| 68719476753|          18|  The Harvest Room|                  77517|     US|  Incline Village|      37.9|       3.3|2016-10-05|2016|   10|  5|\n",
      "|     9qh9| 60129542151|           8|   The Green Olive|                  71555|     US|           Colton|      63.9|      17.7|2016-10-05|2016|   10|  5|\n",
      "|     9r1e|231928233997|          14|The Gourmet Garden|                  33573|     US|    Stirling City|      48.0|       8.9|2016-10-05|2016|   10|  5|\n",
      "|     9rb6| 68719476761|          26|  The Silver Spoon|                  77517|     US|           Eugene|      53.9|      12.2|2016-10-05|2016|   10|  5|\n",
      "|     9udj|231928233984|           1|           Savoria|                  33573|     US|         Edinburg|      84.3|      29.1|2016-10-05|2016|   10|  5|\n",
      "|     9udj|257698037761|           2|      Bella Cucina|                  26468|     US|            Pharr|      84.3|      29.1|2016-10-05|2016|   10|  5|\n",
      "|     9vb2|197568495621|           6|   The Daily Grind|                  24784|     US|    Colorado City|      78.5|      25.8|2016-10-05|2016|   10|  5|\n",
      "|     9vff|206158430215|           8|   The Green Olive|                  53370|     US|      Haltom City|      82.7|      28.2|2016-10-05|2016|   10|  5|\n",
      "|     9vff|137438953473|           2|      Bella Cucina|                  11038|     US|    Grand Prairie|      82.7|      28.2|2016-10-05|2016|   10|  5|\n",
      "|     9vsy|           3|           4|    The Blue Plate|                  47732|     US|         Carthage|      79.6|      26.4|2016-10-05|2016|   10|  5|\n",
      "|     9vv2|240518168582|           7|         Cafe Roma|                  93164|     US|       Shreveport|      78.1|      25.6|2016-10-05|2016|   10|  5|\n",
      "|     9xh3|257698037776|          17|  The Rustic Table|                  26468|     US|             Vail|      33.5|       0.8|2016-10-05|2016|   10|  5|\n",
      "|     9xhn|          15|          16|    The Spice Tree|                  47732|     US|Steamboat Springs|      40.0|       4.4|2016-10-05|2016|   10|  5|\n",
      "|     9xkg|257698037779|          20|     The Brasserie|                  26468|     US|          Laramie|      39.7|       4.3|2016-10-05|2016|   10|  5|\n",
      "|     9xyh| 25769803812|          37|        Cafe Crepe|                  72230|     US|         Deadwood|      33.7|       0.9|2016-10-05|2016|   10|  5|\n",
      "+---------+------------+------------+------------------+-----------------------+-------+-----------------+----------+----------+----------+----+-----+---+\n",
      "only showing top 20 rows\n",
      "\n"
     ]
    }
   ],
   "source": [
    "parquet_df.show()"
   ],
   "metadata": {
    "collapsed": false,
    "ExecuteTime": {
     "start_time": "2023-05-01T22:13:51.966293Z",
     "end_time": "2023-05-01T22:13:52.062593Z"
    }
   }
  }
 ],
 "metadata": {
  "kernelspec": {
   "display_name": "Python 3",
   "language": "python",
   "name": "python3"
  },
  "language_info": {
   "codemirror_mode": {
    "name": "ipython",
    "version": 2
   },
   "file_extension": ".py",
   "mimetype": "text/x-python",
   "name": "python",
   "nbconvert_exporter": "python",
   "pygments_lexer": "ipython2",
   "version": "2.7.6"
  }
 },
 "nbformat": 4,
 "nbformat_minor": 0
}
